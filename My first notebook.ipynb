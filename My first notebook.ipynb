{
 "cells": [
  {
   "cell_type": "code",
   "execution_count": 1,
   "id": "e1879cd8",
   "metadata": {},
   "outputs": [
    {
     "name": "stdout",
     "output_type": "stream",
     "text": [
      "hello all this is my first progrmme\n"
     ]
    }
   ],
   "source": [
    "print(\"hello all this is my first progrmme\")"
   ]
  },
  {
   "cell_type": "code",
   "execution_count": 2,
   "id": "8b298fc3",
   "metadata": {},
   "outputs": [
    {
     "ename": "SyntaxError",
     "evalue": "invalid syntax (4210836818.py, line 1)",
     "output_type": "error",
     "traceback": [
      "\u001b[1;36m  Input \u001b[1;32mIn [2]\u001b[1;36m\u001b[0m\n\u001b[1;33m    print(i am so happy i could do this after the live class\")\u001b[0m\n\u001b[1;37m            ^\u001b[0m\n\u001b[1;31mSyntaxError\u001b[0m\u001b[1;31m:\u001b[0m invalid syntax\n"
     ]
    }
   ],
   "source": [
    "print(\"i am so happy i could do this after the live class\")"
   ]
  },
  {
   "cell_type": "code",
   "execution_count": 3,
   "id": "e0a70b78",
   "metadata": {},
   "outputs": [
    {
     "name": "stdout",
     "output_type": "stream",
     "text": [
      "i can not figure out the error\n"
     ]
    }
   ],
   "source": [
    "print('i can not figure out the error')"
   ]
  },
  {
   "cell_type": "code",
   "execution_count": 4,
   "id": "d1c8d4fb",
   "metadata": {},
   "outputs": [
    {
     "name": "stdout",
     "output_type": "stream",
     "text": [
      "sum value of A & B.\n"
     ]
    }
   ],
   "source": [
    "print(\"sum value of A & B.\")"
   ]
  },
  {
   "cell_type": "code",
   "execution_count": 5,
   "id": "529de3fc",
   "metadata": {},
   "outputs": [
    {
     "name": "stdout",
     "output_type": "stream",
     "text": [
      "what is the value of A\n"
     ]
    }
   ],
   "source": [
    "print('what is the value of A')"
   ]
  },
  {
   "cell_type": "code",
   "execution_count": 6,
   "id": "66f92a41",
   "metadata": {},
   "outputs": [
    {
     "name": "stdout",
     "output_type": "stream",
     "text": [
      "i am happy i could do this after the live class\n"
     ]
    }
   ],
   "source": [
    "print('i am happy i could do this after the live class')"
   ]
  },
  {
   "cell_type": "code",
   "execution_count": null,
   "id": "c7e1aa17",
   "metadata": {},
   "outputs": [],
   "source": []
  }
 ],
 "metadata": {
  "kernelspec": {
   "display_name": "Python 3 (ipykernel)",
   "language": "python",
   "name": "python3"
  },
  "language_info": {
   "codemirror_mode": {
    "name": "ipython",
    "version": 3
   },
   "file_extension": ".py",
   "mimetype": "text/x-python",
   "name": "python",
   "nbconvert_exporter": "python",
   "pygments_lexer": "ipython3",
   "version": "3.9.12"
  }
 },
 "nbformat": 4,
 "nbformat_minor": 5
}
